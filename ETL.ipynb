{
 "cells": [
  {
   "cell_type": "markdown",
   "metadata": {},
   "source": [
    "# Proyecto Integrador: Análisis de Mercado Automotor\n",
    "\n",
    "Este proyecto de ciencias de datos se centra en el análisis del mercado automotor, enfocándose en comprender las características y precios de vehículos, especialmente de una destacada automotriz china con interés en ingresar al mercado local. La diversidad del mercado, ligada a la cultura y preferencias regionales, plantea el desafío de ajustar las ofertas a la demanda local.\n",
    "\n",
    "## Contexto y Problemática\n",
    "\n",
    "La automotriz china busca comprender las particularidades de los vehículos de gama alta y baja en nuestro mercado. Con datos detallados sobre modelos, calificación de riesgo, tipo de combustible, etc., se busca ajustar estrategias de oferta y cotización.\n",
    "\n",
    "## Objetivos del Proyecto\n",
    "\n",
    "Realizar un análisis exploratorio para identificar patrones y tendencias en el mercado automotor.\n",
    "\n",
    "Preparar datos para aplicar modelos de aprendizaje supervisado.\n",
    "\n",
    "Implementar un modelo de clasificación para diferenciar vehículos de gama alta y baja utilizando la mediana de precios como referencia.\n",
    "\n",
    "Desarrollar un modelo de regresión para predecir el precio final de los vehículos.\n",
    "\n",
    "## Estructura del Proyecto\n",
    "\n",
    "El proyecto consta de tres fases: Análisis exploratorio, Preparación de datos y Modelamiento y evaluación, cada una detallada con explicaciones y comentarios para facilitar la comprensión de los pasos realizados. ¡Comencemos este apasionante viaje en el mundo del análisis de datos automotores!\n",
    "\n",
    "\n",
    "\n",
    "\n"
   ]
  },
  {
   "cell_type": "code",
   "execution_count": 1,
   "metadata": {},
   "outputs": [],
   "source": [
    "# Importar librerías necesarias\n",
    "import pandas as pd\n",
    "import numpy as np\n",
    "import matplotlib.pyplot as plt\n",
    "import seaborn as sns"
   ]
  },
  {
   "cell_type": "code",
   "execution_count": 2,
   "metadata": {},
   "outputs": [],
   "source": [
    "df = pd.read_csv(\"ML_cars.csv\")"
   ]
  }
 ],
 "metadata": {
  "kernelspec": {
   "display_name": "base",
   "language": "python",
   "name": "python3"
  },
  "language_info": {
   "codemirror_mode": {
    "name": "ipython",
    "version": 3
   },
   "file_extension": ".py",
   "mimetype": "text/x-python",
   "name": "python",
   "nbconvert_exporter": "python",
   "pygments_lexer": "ipython3",
   "version": "3.11.5"
  }
 },
 "nbformat": 4,
 "nbformat_minor": 2
}
